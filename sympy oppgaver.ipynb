{
 "cells": [
  {
   "cell_type": "code",
   "execution_count": 97,
   "id": "60e6f207-0809-4d90-a658-52c9451e92ba",
   "metadata": {},
   "outputs": [],
   "source": [
    "##importerer pakker\n",
    "import sympy as sp\n",
    "from sympy.solvers import solve\n",
    "import math\n",
    "# har brukt noe dokumentasjon herfra: https://docs.sympy.org/latest/tutorials/intro-tutorial/simplification.html"
   ]
  },
  {
   "cell_type": "code",
   "execution_count": 62,
   "id": "ba9a6473-4756-4e05-880f-586d8a5bf90b",
   "metadata": {},
   "outputs": [
    {
     "data": {
      "text/plain": [
       "{x: -1, y: 2}"
      ]
     },
     "execution_count": 62,
     "metadata": {},
     "output_type": "execute_result"
    }
   ],
   "source": [
    "#Oppgave 15\n",
    "#1a\n",
    "x, y  = sp.symbols(\"x y\") \n",
    "unknown = [x, y] \n",
    "eq_a = [\n",
    "    sp.Eq(2*x+4*y,6),\n",
    "    sp.Eq(-2*x+y, 4)\n",
    "] \n",
    "sp.solve(eq_a, unknown)"
   ]
  },
  {
   "cell_type": "code",
   "execution_count": 63,
   "id": "7b14e375-5da6-4b64-a545-b59a1b7cfcb2",
   "metadata": {},
   "outputs": [
    {
     "data": {
      "text/plain": [
       "[(-1, -1), (2, 5)]"
      ]
     },
     "execution_count": 63,
     "metadata": {},
     "output_type": "execute_result"
    }
   ],
   "source": [
    "#1b\n",
    "eq_a = [\n",
    "    sp.Eq(2*x-y,-1),\n",
    "    sp.Eq(x**2+x-y, 1)\n",
    "] \n",
    "sp.solve(eq_a, unknown)"
   ]
  },
  {
   "cell_type": "code",
   "execution_count": 64,
   "id": "4a458e05-6add-49f9-81cb-dc6c45e906a9",
   "metadata": {},
   "outputs": [
    {
     "data": {
      "text/plain": [
       "{x: 4, y: 0}"
      ]
     },
     "execution_count": 64,
     "metadata": {},
     "output_type": "execute_result"
    }
   ],
   "source": [
    "#2a\n",
    "eq_a = [\n",
    "    sp.Eq(3*x-12, -6*y),\n",
    "    sp.Eq(4*x-8*y, 16)\n",
    "] \n",
    "sp.solve(eq_a, unknown)"
   ]
  },
  {
   "cell_type": "code",
   "execution_count": 65,
   "id": "c3f96a4e-04a8-4190-bfac-115925c965f5",
   "metadata": {},
   "outputs": [
    {
     "data": {
      "text/plain": [
       "[(-15/2, 31/4), (2, 3)]"
      ]
     },
     "execution_count": 65,
     "metadata": {},
     "output_type": "execute_result"
    }
   ],
   "source": [
    "#2b\n",
    "eq_a = [\n",
    "    sp.Eq(x**2+4*x-3, 3*y),\n",
    "    sp.Eq(8-x, 2*y)\n",
    "] \n",
    "sp.solve(eq_a, unknown)"
   ]
  },
  {
   "cell_type": "code",
   "execution_count": 94,
   "id": "0261ab85-d7e1-4f7d-9b9c-49be216ea271",
   "metadata": {},
   "outputs": [
    {
     "data": {
      "text/plain": [
       "{x: 2, y: 2}"
      ]
     },
     "execution_count": 94,
     "metadata": {},
     "output_type": "execute_result"
    }
   ],
   "source": [
    "#16 - 1a)\n",
    "x, y  = sp.symbols(\"x y\") \n",
    "unknown = [x, y]\n",
    "eq_a = [\n",
    "    sp.Eq(4*x+2*y,12),\n",
    "    sp.Eq(6*x-2*y,8)\n",
    "] \n",
    "sp.solve(eq_a, unknown) "
   ]
  },
  {
   "cell_type": "code",
   "execution_count": 4,
   "id": "fdc1eb1a-396a-4622-a936-a453caf6f333",
   "metadata": {},
   "outputs": [
    {
     "data": {
      "text/plain": [
       "[(0, -5), (12, 1)]"
      ]
     },
     "execution_count": 4,
     "metadata": {},
     "output_type": "execute_result"
    }
   ],
   "source": [
    "#16 -1b\n",
    "eq_16_2 = [sp.Eq(2*x+pow(y,2), 25), \n",
    "          sp.Eq(x-2*y, 10)] \n",
    "sp.solve(eq_16_2, [x, y]) "
   ]
  },
  {
   "cell_type": "code",
   "execution_count": 5,
   "id": "7d43b4e8-d030-41f8-915d-9ba82ac0a48a",
   "metadata": {},
   "outputs": [
    {
     "data": {
      "text/plain": [
       "{x: 4, y: 2}"
      ]
     },
     "execution_count": 5,
     "metadata": {},
     "output_type": "execute_result"
    }
   ],
   "source": [
    "#16 -2a\n",
    "eq_16_3 = [sp.Eq(4*x-4*y,8), \n",
    "          sp.Eq(9*x-5*y,26)] \n",
    "sp.solve(eq_16_3, [x, y]) "
   ]
  },
  {
   "cell_type": "code",
   "execution_count": 67,
   "id": "1c635050-daf5-476d-8449-a436dd24c2cc",
   "metadata": {},
   "outputs": [
    {
     "data": {
      "text/plain": [
       "[(-9, -2*sqrt(3)), (-9, 2*sqrt(3)), (7, -2), (7, 2)]"
      ]
     },
     "execution_count": 67,
     "metadata": {},
     "output_type": "execute_result"
    }
   ],
   "source": [
    "#16 2b\n",
    "eq_16_4 = [sp.Eq(x+2*y**2, 15),\n",
    "          sp.Eq(x**2-4*y**2, 33)] \n",
    "sp.solve(eq_16_4, [x, y]) "
   ]
  },
  {
   "cell_type": "code",
   "execution_count": 86,
   "id": "bf62a642-d2cc-40e1-acbf-affc675d356c",
   "metadata": {},
   "outputs": [
    {
     "data": {
      "text/plain": [
       "[(15, -1), (15, 1)]"
      ]
     },
     "execution_count": 86,
     "metadata": {},
     "output_type": "execute_result"
    }
   ],
   "source": [
    "#oppgave 17 1a\n",
    "equations = [sp.Eq(x*y**2-x, 0),\n",
    "             sp.Eq(x+y**2, 16)]\n",
    "sp.solve(equations, [x, y])"
   ]
  },
  {
   "cell_type": "code",
   "execution_count": 91,
   "id": "437b3377-b79f-4076-bdc8-a31656fa2514",
   "metadata": {},
   "outputs": [
    {
     "data": {
      "text/plain": [
       "[(6, -8), (6, 8), (10, 0)]"
      ]
     },
     "execution_count": 91,
     "metadata": {},
     "output_type": "execute_result"
    }
   ],
   "source": [
    "#171b\n",
    "equations = [sp.Eq(x**2+y**2, 100),\n",
    "             sp.Eq(x**2*y-36*y, 0)]\n",
    "sp.solve(equations, [x, y])"
   ]
  },
  {
   "cell_type": "code",
   "execution_count": 92,
   "id": "1fea35c8-a675-4336-a7c3-cc06f4a632d1",
   "metadata": {},
   "outputs": [
    {
     "data": {
      "text/plain": [
       "[(3, -7), (3, 7)]"
      ]
     },
     "execution_count": 92,
     "metadata": {},
     "output_type": "execute_result"
    }
   ],
   "source": [
    "#17 2a\n",
    "equations = [sp.Eq(x*y**2-49*x, 0),\n",
    "             sp.Eq(x**2+y**2, 58)]\n",
    "sp.solve(equations, [x, y])"
   ]
  },
  {
   "cell_type": "code",
   "execution_count": 93,
   "id": "935dc850-3bb0-49ce-9c7f-56d00c618f2d",
   "metadata": {},
   "outputs": [
    {
     "data": {
      "text/plain": [
       "[(1.11803398874989, 0.0)]"
      ]
     },
     "execution_count": 93,
     "metadata": {},
     "output_type": "execute_result"
    }
   ],
   "source": [
    "#17 2b\n",
    "equations = [sp.Eq(x**2+y**2, 1.25),\n",
    "             sp.Eq(2*(x*y)+y, 0)]\n",
    "sp.solve(equations, [x, y])"
   ]
  },
  {
   "cell_type": "code",
   "execution_count": 68,
   "id": "b7ba51f2-1084-4f08-9f4d-e951a91720f2",
   "metadata": {},
   "outputs": [
    {
     "data": {
      "text/latex": [
       "$\\displaystyle 5 x^{4}$"
      ],
      "text/plain": [
       "5*x**4"
      ]
     },
     "execution_count": 68,
     "metadata": {},
     "output_type": "execute_result"
    }
   ],
   "source": [
    "#Oppgave 19\n",
    "#1a\n",
    "def d19(x):\n",
    "    return x**5\n",
    "sp.diff(d19(x))"
   ]
  },
  {
   "cell_type": "code",
   "execution_count": 69,
   "id": "653d92cf-5ac4-40c3-b6c8-29c70d14b2d8",
   "metadata": {},
   "outputs": [
    {
     "data": {
      "text/latex": [
       "$\\displaystyle 1$"
      ],
      "text/plain": [
       "1"
      ]
     },
     "execution_count": 69,
     "metadata": {},
     "output_type": "execute_result"
    }
   ],
   "source": [
    "#19 1b\n",
    "def d19(x):\n",
    "    return x + (2)\n",
    "sp.diff(d19(x), x)"
   ]
  },
  {
   "cell_type": "code",
   "execution_count": 70,
   "id": "d5b34174-d505-4af3-8398-6e1b83591180",
   "metadata": {},
   "outputs": [
    {
     "data": {
      "text/latex": [
       "$\\displaystyle 3 x^{2} + 8 x$"
      ],
      "text/plain": [
       "3*x**2 + 8*x"
      ]
     },
     "execution_count": 70,
     "metadata": {},
     "output_type": "execute_result"
    }
   ],
   "source": [
    "#19 1c\n",
    "def d19(x):\n",
    "    return x**3 + (4*x**2)\n",
    "sp.diff(d19(x), x)"
   ]
  },
  {
   "cell_type": "code",
   "execution_count": 73,
   "id": "a6fa1165-d1a4-4a7f-b23e-9f3a6cadec60",
   "metadata": {},
   "outputs": [
    {
     "data": {
      "text/latex": [
       "$\\displaystyle 6 x^{2}$"
      ],
      "text/plain": [
       "6*x**2"
      ]
     },
     "execution_count": 73,
     "metadata": {},
     "output_type": "execute_result"
    }
   ],
   "source": [
    "#19 1d\n",
    "def d19(x):\n",
    "    return 2*x**3 + sp.sqrt(36)\n",
    "sp.diff(d19(x), x)"
   ]
  },
  {
   "cell_type": "code",
   "execution_count": 74,
   "id": "603583f5-5224-430e-b7b8-64152940e57c",
   "metadata": {},
   "outputs": [
    {
     "data": {
      "text/latex": [
       "$\\displaystyle \\frac{1}{2 \\sqrt{x}}$"
      ],
      "text/plain": [
       "1/(2*sqrt(x))"
      ]
     },
     "execution_count": 74,
     "metadata": {},
     "output_type": "execute_result"
    }
   ],
   "source": [
    "#19 1e\n",
    "def d19(x):\n",
    "    return sp.sqrt(x) + (5**2)\n",
    "sp.diff(d19(x), x)"
   ]
  },
  {
   "cell_type": "code",
   "execution_count": 75,
   "id": "59e3e108-b6fb-45bc-90ac-43ea0db0352c",
   "metadata": {},
   "outputs": [
    {
     "data": {
      "text/latex": [
       "$\\displaystyle 3 x^{2} - \\frac{1}{x^{2}}$"
      ],
      "text/plain": [
       "3*x**2 - 1/x**2"
      ]
     },
     "execution_count": 75,
     "metadata": {},
     "output_type": "execute_result"
    }
   ],
   "source": [
    "#19 1f\n",
    "def d19(x):\n",
    "    return x**3 + (1/x) \n",
    "sp.diff(d19(x), x)"
   ]
  },
  {
   "cell_type": "code",
   "execution_count": 78,
   "id": "6d8aeb2a-ced6-4128-bc20-fe735b513ce2",
   "metadata": {},
   "outputs": [
    {
     "data": {
      "text/latex": [
       "$\\displaystyle 3 x^{2} - \\frac{3 x}{2}$"
      ],
      "text/plain": [
       "3*x**2 - 3*x/2"
      ]
     },
     "execution_count": 78,
     "metadata": {},
     "output_type": "execute_result"
    }
   ],
   "source": [
    "#19 1g\n",
    "def d19(x):\n",
    "    return x**3 - x**2 + (1*x/4*x) \n",
    "sp.diff(d19(x), x)"
   ]
  },
  {
   "cell_type": "code",
   "execution_count": 79,
   "id": "e96a0d99-2977-44cd-bebd-a1e983fea2d0",
   "metadata": {},
   "outputs": [
    {
     "data": {
      "text/latex": [
       "$\\displaystyle 36 x^{5} - \\frac{1}{x^{2}}$"
      ],
      "text/plain": [
       "36*x**5 - 1/x**2"
      ]
     },
     "execution_count": 79,
     "metadata": {},
     "output_type": "execute_result"
    }
   ],
   "source": [
    "#19 2a\n",
    "x = sp.symbols(\"x\")\n",
    "sp.diff(1/x + (6*x**6), x) #vi kunne også srkevet ut ligningen direkte i"
   ]
  },
  {
   "cell_type": "code",
   "execution_count": 80,
   "id": "8ad5721b-0d0d-43fa-87c1-fdb9153b6747",
   "metadata": {},
   "outputs": [
    {
     "data": {
      "text/latex": [
       "$\\displaystyle 0.6 x^{2} - 1$"
      ],
      "text/plain": [
       "0.6*x**2 - 1"
      ]
     },
     "execution_count": 80,
     "metadata": {},
     "output_type": "execute_result"
    }
   ],
   "source": [
    "#19 2b\n",
    "def d19(x):\n",
    "    x = sp.symbols(\"x\")\n",
    "    return -x + (1/5*x**3)\n",
    "sp.diff(d19(x), (x))"
   ]
  },
  {
   "cell_type": "code",
   "execution_count": 81,
   "id": "c80ce6af-7045-4443-b34f-04cc3a67a061",
   "metadata": {},
   "outputs": [
    {
     "data": {
      "text/latex": [
       "$\\displaystyle 2 x + 3$"
      ],
      "text/plain": [
       "2*x + 3"
      ]
     },
     "execution_count": 81,
     "metadata": {},
     "output_type": "execute_result"
    }
   ],
   "source": [
    "#19 2c\n",
    "x = sp.symbols(\"x\")\n",
    "sp.diff(x+(x**2 + 2*x - 3), x)"
   ]
  },
  {
   "cell_type": "code",
   "execution_count": 82,
   "id": "33068b91-5f05-4687-9bde-6bf440bf3ffb",
   "metadata": {},
   "outputs": [
    {
     "data": {
      "text/latex": [
       "$\\displaystyle x^{4}$"
      ],
      "text/plain": [
       "x**4"
      ]
     },
     "execution_count": 82,
     "metadata": {},
     "output_type": "execute_result"
    }
   ],
   "source": [
    "#oppgave 20 1a\n",
    "x = sp.symbols(\"x\")\n",
    "sp.root(x**12, 3) \n",
    "x = sp.symbols(\"x\", positive=True) \n",
    "sp.root(x**12, 3) "
   ]
  },
  {
   "cell_type": "code",
   "execution_count": 11,
   "id": "eeb538fb-ba4e-47e4-bb82-7ee8b6428c4b",
   "metadata": {},
   "outputs": [
    {
     "data": {
      "text/latex": [
       "$\\displaystyle \\sqrt{x^{2} + 4}$"
      ],
      "text/plain": [
       "sqrt(x**2 + 4)"
      ]
     },
     "execution_count": 11,
     "metadata": {},
     "output_type": "execute_result"
    }
   ],
   "source": [
    "#oppgave 20 1b\n",
    "x = sp.symbols(\"x\")\n",
    "sp.root((x**2+4)**4,8)\n",
    "x = sp.symbols(\"x\", positive=True)\n",
    "sp.root((x**2+4)**4,8) "
   ]
  },
  {
   "cell_type": "code",
   "execution_count": 48,
   "id": "a5654878-bcbe-4cbb-b0fd-0fcda7dcebf4",
   "metadata": {},
   "outputs": [
    {
     "data": {
      "text/plain": [
       "[0]"
      ]
     },
     "execution_count": 48,
     "metadata": {},
     "output_type": "execute_result"
    }
   ],
   "source": [
    "#20 1c\n",
    "x = sp.symbols(\"x\")\n",
    "sp.solve(sp.sqrt(x)*sp.root(x,3))"
   ]
  },
  {
   "cell_type": "code",
   "execution_count": 19,
   "id": "67878615-1234-451b-8de1-55f5a4ffb718",
   "metadata": {},
   "outputs": [
    {
     "data": {
      "text/latex": [
       "$\\displaystyle \\left(x + 2\\right)^{0.125}$"
      ],
      "text/plain": [
       "(x + 2)**0.125"
      ]
     },
     "execution_count": 19,
     "metadata": {},
     "output_type": "execute_result"
    }
   ],
   "source": [
    "#20d\n",
    "x = sp.symbols(\"x\")\n",
    "sp.root((x+2)**0.5, 4)\n",
    "x = sp.symbols(\"x\", positive=True) \n",
    "sp.root((x+2)**0.5, 4) "
   ]
  },
  {
   "cell_type": "code",
   "execution_count": 20,
   "id": "b422ac38-60a1-4b1a-9d04-e5ff28834fdb",
   "metadata": {},
   "outputs": [
    {
     "data": {
      "text/latex": [
       "$\\displaystyle 9 x^{8}$"
      ],
      "text/plain": [
       "9*x**8"
      ]
     },
     "execution_count": 20,
     "metadata": {},
     "output_type": "execute_result"
    }
   ],
   "source": [
    "#20 1e\n",
    "x = sp.symbols(\"x\")\n",
    "sp.diff(x**4 * x**5)"
   ]
  },
  {
   "cell_type": "code",
   "execution_count": 25,
   "id": "674deebf-9988-48b1-a28e-0f54e1d9b500",
   "metadata": {},
   "outputs": [
    {
     "data": {
      "text/latex": [
       "$\\displaystyle \\frac{3 \\sqrt{x}}{2}$"
      ],
      "text/plain": [
       "3*sqrt(x)/2"
      ]
     },
     "execution_count": 25,
     "metadata": {},
     "output_type": "execute_result"
    }
   ],
   "source": [
    "#20 1f\n",
    "x = sp.symbols(\"x\")\n",
    "sp.diff(x * sp.sqrt(x))"
   ]
  },
  {
   "cell_type": "code",
   "execution_count": 21,
   "id": "13e9397d-0d05-4009-b5a3-455a294722a1",
   "metadata": {},
   "outputs": [
    {
     "data": {
      "text/latex": [
       "$\\displaystyle \\frac{6 - x^{2}}{x^{4}}$"
      ],
      "text/plain": [
       "(6 - x**2)/x**4"
      ]
     },
     "execution_count": 21,
     "metadata": {},
     "output_type": "execute_result"
    }
   ],
   "source": [
    "#20 1h\n",
    "solved = sp.diff((x**2-2)/(x**3), x) \n",
    "sp.simplify(solved)"
   ]
  },
  {
   "cell_type": "code",
   "execution_count": 43,
   "id": "66ccec7c-bb92-4464-9977-f9d976a38044",
   "metadata": {},
   "outputs": [
    {
     "data": {
      "text/latex": [
       "$\\displaystyle \\frac{13 x^{\\frac{11}{2}}}{2}$"
      ],
      "text/plain": [
       "13*x**(11/2)/2"
      ]
     },
     "execution_count": 43,
     "metadata": {},
     "output_type": "execute_result"
    }
   ],
   "source": [
    "#20 1i\n",
    "x = sp.symbols(\"x\")\n",
    "sp.diff(sp.sqrt(x)*x**6)"
   ]
  },
  {
   "cell_type": "code",
   "execution_count": 50,
   "id": "d6aa4a98-a783-4cf1-ac2e-a74be553b6ec",
   "metadata": {},
   "outputs": [
    {
     "data": {
      "text/latex": [
       "$\\displaystyle 3 x^{2} + 1$"
      ],
      "text/plain": [
       "3*x**2 + 1"
      ]
     },
     "execution_count": 50,
     "metadata": {},
     "output_type": "execute_result"
    }
   ],
   "source": [
    "#20 1J\n",
    "x = sp.symbols(\"x\")\n",
    "sp.diff(x*(x**2+1))"
   ]
  },
  {
   "cell_type": "code",
   "execution_count": 52,
   "id": "f5687437-7541-4199-b458-dd5783f31090",
   "metadata": {},
   "outputs": [
    {
     "data": {
      "text/latex": [
       "$\\displaystyle \\frac{x \\left(- x^{3} - 12 x - 2\\right)}{x^{6} - 2 x^{3} + 1}$"
      ],
      "text/plain": [
       "x*(-x**3 - 12*x - 2)/(x**6 - 2*x**3 + 1)"
      ]
     },
     "execution_count": 52,
     "metadata": {},
     "output_type": "execute_result"
    }
   ],
   "source": [
    "#20 1K\n",
    "solved = sp.diff((x**2+4)/(x**3-1)) \n",
    "sp.simplify(solved)"
   ]
  },
  {
   "cell_type": "code",
   "execution_count": 61,
   "id": "35b2b0f6-bd74-4337-acfe-0f3dbd960d45",
   "metadata": {},
   "outputs": [
    {
     "data": {
      "text/latex": [
       "$\\displaystyle \\frac{2}{\\left(x + 2\\right)^{2}}$"
      ],
      "text/plain": [
       "2/(x + 2)**2"
      ]
     },
     "execution_count": 61,
     "metadata": {},
     "output_type": "execute_result"
    }
   ],
   "source": [
    "#20 1L\n",
    "solved = sp.diff((x**2)/(x**2+2*x))\n",
    "sp.simplify(solved) "
   ]
  },
  {
   "cell_type": "code",
   "execution_count": 66,
   "id": "9b9c2eb4-e411-41af-bc6a-27ad4b742ea7",
   "metadata": {},
   "outputs": [
    {
     "data": {
      "text/latex": [
       "$\\displaystyle \\frac{x^{2} - 4 x - 10}{x^{2} - 4 x + 4}$"
      ],
      "text/plain": [
       "(x**2 - 4*x - 10)/(x**2 - 4*x + 4)"
      ]
     },
     "execution_count": 66,
     "metadata": {},
     "output_type": "execute_result"
    }
   ],
   "source": [
    "#20 1m\n",
    "solved = sp.diff((x**2+4*x +2)/(x-2), x)\n",
    "sp.simplify(solved)"
   ]
  },
  {
   "cell_type": "code",
   "execution_count": 83,
   "id": "6c7e64c6-e963-4397-87f9-00ec550454bd",
   "metadata": {},
   "outputs": [
    {
     "data": {
      "text/latex": [
       "$\\displaystyle \\frac{x^{4} - x^{2} + 2}{x^{4} - 2 x^{2} + 1}$"
      ],
      "text/plain": [
       "(x**4 - x**2 + 2)/(x**4 - 2*x**2 + 1)"
      ]
     },
     "execution_count": 83,
     "metadata": {},
     "output_type": "execute_result"
    }
   ],
   "source": [
    "#20 2a\n",
    "solved = sp.diff((x**3-2*x)/(x**2-1))\n",
    "sp.simplify(solved)"
   ]
  },
  {
   "cell_type": "code",
   "execution_count": 84,
   "id": "bde0efa6-f4ca-4167-8bf6-8597fbe16c18",
   "metadata": {},
   "outputs": [
    {
     "data": {
      "text/latex": [
       "$\\displaystyle 4 x^{3}$"
      ],
      "text/plain": [
       "4*x**3"
      ]
     },
     "execution_count": 84,
     "metadata": {},
     "output_type": "execute_result"
    }
   ],
   "source": [
    "#20 2b\n",
    "solved = sp.diff((x**2+1)*(x**2-1))\n",
    "sp.simplify(solved)"
   ]
  },
  {
   "cell_type": "code",
   "execution_count": 85,
   "id": "89d22edc-c0ad-4a83-b201-e3316052aebf",
   "metadata": {},
   "outputs": [
    {
     "data": {
      "text/latex": [
       "$\\displaystyle \\frac{3 \\left(- 2 x^{3} + 4 x^{2} + 7\\right)}{x^{6} + 14 x^{3} + 49}$"
      ],
      "text/plain": [
       "3*(-2*x**3 + 4*x**2 + 7)/(x**6 + 14*x**3 + 49)"
      ]
     },
     "execution_count": 85,
     "metadata": {},
     "output_type": "execute_result"
    }
   ],
   "source": [
    "#20 2c\n",
    "solved = sp.diff((3*x-4)/(x**3+7))\n",
    "sp.simplify(solved)"
   ]
  },
  {
   "cell_type": "code",
   "execution_count": 113,
   "id": "78e5c8c0-d36e-41ef-80b6-bc1764f9c734",
   "metadata": {},
   "outputs": [
    {
     "data": {
      "text/latex": [
       "$\\displaystyle \\left(15 x^{2} + 30\\right) \\left(x^{3} + 6 x\\right)^{4}$"
      ],
      "text/plain": [
       "(15*x**2 + 30)*(x**3 + 6*x)**4"
      ]
     },
     "execution_count": 113,
     "metadata": {},
     "output_type": "execute_result"
    }
   ],
   "source": [
    "#oppgave 21 1a\n",
    "unknown = [x, y]\n",
    "sp.diff(((x**3+x*6)**5), x)"
   ]
  },
  {
   "cell_type": "code",
   "execution_count": 116,
   "id": "99dfe2ad-aec4-4742-a78e-a52f44d637d4",
   "metadata": {},
   "outputs": [
    {
     "data": {
      "text/latex": [
       "$\\displaystyle \\frac{2 x}{\\sqrt{2 x^{2} + 5}}$"
      ],
      "text/plain": [
       "2*x/sqrt(2*x**2 + 5)"
      ]
     },
     "execution_count": 116,
     "metadata": {},
     "output_type": "execute_result"
    }
   ],
   "source": [
    "#oppg 21 1b\n",
    "sp.diff(sp.sqrt(2*x**2 +5), x)"
   ]
  },
  {
   "cell_type": "code",
   "execution_count": 118,
   "id": "f0b78413-9620-46b8-9449-50962c4ae5f7",
   "metadata": {},
   "outputs": [
    {
     "data": {
      "text/latex": [
       "$\\displaystyle - \\frac{128 x^{5}}{\\left(x^{2} + 3\\right)^{5}} + \\frac{64 x^{3}}{\\left(x^{2} + 3\\right)^{4}}$"
      ],
      "text/plain": [
       "-128*x**5/(x**2 + 3)**5 + 64*x**3/(x**2 + 3)**4"
      ]
     },
     "execution_count": 118,
     "metadata": {},
     "output_type": "execute_result"
    }
   ],
   "source": [
    "#1c\n",
    "sp.diff(((2*x/(x**2+3))**4), x)"
   ]
  },
  {
   "cell_type": "code",
   "execution_count": 119,
   "id": "5c8727fe-a82b-4422-a814-104e7e0e82d9",
   "metadata": {},
   "outputs": [
    {
     "data": {
      "text/latex": [
       "$\\displaystyle 96 x^{3} \\left(16 x^{4} + 9\\right)^{2}$"
      ],
      "text/plain": [
       "96*x**3*(16*x**4 + 9)**2"
      ]
     },
     "execution_count": 119,
     "metadata": {},
     "output_type": "execute_result"
    }
   ],
   "source": [
    "#1d\n",
    "sp.diff(((2*x)**4+9)**3/2, x)"
   ]
  },
  {
   "cell_type": "code",
   "execution_count": 120,
   "id": "9c38b05f-2d6c-43aa-a60d-5a1d5bf9fcb7",
   "metadata": {},
   "outputs": [
    {
     "data": {
      "text/latex": [
       "$\\displaystyle - \\frac{x}{\\left(x^{2} + 1\\right)^{\\frac{3}{2}}}$"
      ],
      "text/plain": [
       "-x/(x**2 + 1)**(3/2)"
      ]
     },
     "execution_count": 120,
     "metadata": {},
     "output_type": "execute_result"
    }
   ],
   "source": [
    "#1e\n",
    "sp.diff((1)/sp.sqrt(1+x**2) ,x)"
   ]
  },
  {
   "cell_type": "code",
   "execution_count": null,
   "id": "55ba4cf7-c6b2-4b48-8cc3-cd1257b8eacc",
   "metadata": {},
   "outputs": [],
   "source": [
    "#1f\n",
    "sp.diff(x**2*(x**2+2*x)**3, x)"
   ]
  },
  {
   "cell_type": "code",
   "execution_count": null,
   "id": "5e3ba3dc-c490-4038-a62f-02797e925b33",
   "metadata": {},
   "outputs": [],
   "source": [
    "#1g\n",
    "sp.diff(x**2*sp.sqrt(x**2-2*x), x)"
   ]
  },
  {
   "cell_type": "code",
   "execution_count": 121,
   "id": "5a274a12-3bf2-49ed-9ef9-3a9e43d5e4e3",
   "metadata": {},
   "outputs": [
    {
     "data": {
      "text/latex": [
       "$\\displaystyle \\frac{x^{2} \\left(- 6 x - 3\\right)}{\\left(x^{2} + x\\right)^{4}} + \\frac{2 x}{\\left(x^{2} + x\\right)^{3}}$"
      ],
      "text/plain": [
       "x**2*(-6*x - 3)/(x**2 + x)**4 + 2*x/(x**2 + x)**3"
      ]
     },
     "execution_count": 121,
     "metadata": {},
     "output_type": "execute_result"
    }
   ],
   "source": [
    "#1h\n",
    "sp.diff(x**2/(x**2+x)**3, x)"
   ]
  },
  {
   "cell_type": "code",
   "execution_count": 122,
   "id": "680dbd5b-c56d-4e42-87c4-aab44a988213",
   "metadata": {},
   "outputs": [
    {
     "data": {
      "text/latex": [
       "$\\displaystyle 9 x^{2} \\left(x^{2} + 1\\right)^{2} \\left(x^{3} + 1\\right)^{2} + 4 x \\left(x^{2} + 1\\right) \\left(x^{3} + 1\\right)^{3}$"
      ],
      "text/plain": [
       "9*x**2*(x**2 + 1)**2*(x**3 + 1)**2 + 4*x*(x**2 + 1)*(x**3 + 1)**3"
      ]
     },
     "execution_count": 122,
     "metadata": {},
     "output_type": "execute_result"
    }
   ],
   "source": [
    "#1i\n",
    "sp.diff((x**2+1)**2*(x**3+1)**3, x)"
   ]
  },
  {
   "cell_type": "code",
   "execution_count": 123,
   "id": "de0629e2-8156-4d0d-a7c1-69eca1101c2e",
   "metadata": {},
   "outputs": [
    {
     "data": {
      "text/latex": [
       "$\\displaystyle \\frac{\\left(24 x + 8\\right) \\sqrt{\\left(3 x^{2} + 2 x\\right)^{4}}}{2 \\cdot \\left(3 x^{2} + 2 x\\right)}$"
      ],
      "text/plain": [
       "(24*x + 8)*sqrt((3*x**2 + 2*x)**4)/(2*(3*x**2 + 2*x))"
      ]
     },
     "execution_count": 123,
     "metadata": {},
     "output_type": "execute_result"
    }
   ],
   "source": [
    "#2a\n",
    "\n",
    "sp.diff(sp.sqrt((3*x**2+2*x)**4), x)"
   ]
  },
  {
   "cell_type": "code",
   "execution_count": 124,
   "id": "2cdb0763-1c0f-4c90-bd97-d77795125426",
   "metadata": {},
   "outputs": [
    {
     "data": {
      "text/latex": [
       "$\\displaystyle 15 x^{2} \\left(x^{2} + 3\\right)^{4} \\left(x^{3} + 3\\right)^{4} + 8 x \\left(x^{2} + 3\\right)^{3} \\left(x^{3} + 3\\right)^{5}$"
      ],
      "text/plain": [
       "15*x**2*(x**2 + 3)**4*(x**3 + 3)**4 + 8*x*(x**2 + 3)**3*(x**3 + 3)**5"
      ]
     },
     "execution_count": 124,
     "metadata": {},
     "output_type": "execute_result"
    }
   ],
   "source": [
    "#2b\n",
    "sp.diff((x**3+3)**5*(x**2+3)**4, x)"
   ]
  },
  {
   "cell_type": "code",
   "execution_count": 95,
   "id": "4e586dee-6654-493c-b8fa-37f3886b49f5",
   "metadata": {},
   "outputs": [
    {
     "data": {
      "text/latex": [
       "$\\displaystyle \\frac{1}{x}$"
      ],
      "text/plain": [
       "1/x"
      ]
     },
     "execution_count": 95,
     "metadata": {},
     "output_type": "execute_result"
    }
   ],
   "source": [
    "#Oppgave 22.1a)\n",
    "x = sp.Symbol('x')\n",
    "sp.diff(sp.log(5*x))"
   ]
  },
  {
   "cell_type": "code",
   "execution_count": 98,
   "id": "21d12806-0858-4d11-9264-34f94b5f51c6",
   "metadata": {},
   "outputs": [
    {
     "data": {
      "text/latex": [
       "$\\displaystyle -2.0$"
      ],
      "text/plain": [
       "-2.00000000000000"
      ]
     },
     "execution_count": 98,
     "metadata": {},
     "output_type": "execute_result"
    }
   ],
   "source": [
    "#Oppgave 22.1b)\n",
    "x = sp.Symbol('x')\n",
    "sp.diff(sp.log(math.e**(-2*x)))"
   ]
  },
  {
   "cell_type": "code",
   "execution_count": 99,
   "id": "2d9cc10a-e22d-4805-ad5c-a2f662fb0b1d",
   "metadata": {},
   "outputs": [
    {
     "data": {
      "text/latex": [
       "$\\displaystyle \\frac{1}{x}$"
      ],
      "text/plain": [
       "1/x"
      ]
     },
     "execution_count": 99,
     "metadata": {},
     "output_type": "execute_result"
    }
   ],
   "source": [
    "#Oppgave 22.1c)\n",
    "x = sp.Symbol('x')\n",
    "sp.diff(sp.log(12*x)-3)"
   ]
  },
  {
   "cell_type": "code",
   "execution_count": 100,
   "id": "b9476c7a-1e42-417d-a920-f53074c41ee4",
   "metadata": {},
   "outputs": [
    {
     "data": {
      "text/latex": [
       "$\\displaystyle 2^{x} e^{2^{x}} \\log{\\left(2 \\right)}$"
      ],
      "text/plain": [
       "2**x*exp(2**x)*log(2)"
      ]
     },
     "execution_count": 100,
     "metadata": {},
     "output_type": "execute_result"
    }
   ],
   "source": [
    "#Oppgave 22.1d)\n",
    "x = sp.Symbol('x')\n",
    "sp.diff(sp.exp(2**x))"
   ]
  },
  {
   "cell_type": "code",
   "execution_count": 101,
   "id": "1c87feb8-d242-45c9-88c0-f6d1c161574e",
   "metadata": {},
   "outputs": [
    {
     "data": {
      "text/latex": [
       "$\\displaystyle 3.0 \\cdot 2.71828182845905^{- 3 x - 5} \\cdot 2.71828182845905^{3 x + 5}$"
      ],
      "text/plain": [
       "3.0*2.71828182845905**(-3*x - 5)*2.71828182845905**(3*x + 5)"
      ]
     },
     "execution_count": 101,
     "metadata": {},
     "output_type": "execute_result"
    }
   ],
   "source": [
    "#Oppgave 22.1e)\n",
    "x = sp.Symbol('x')\n",
    "sp.diff(sp.log(math.e**(3*x+5)))"
   ]
  },
  {
   "cell_type": "code",
   "execution_count": 102,
   "id": "f6676716-c6a9-4a00-91c0-ea8fc4b007b6",
   "metadata": {},
   "outputs": [
    {
     "data": {
      "text/latex": [
       "$\\displaystyle \\frac{5 x^{4}}{x^{5} + 1}$"
      ],
      "text/plain": [
       "5*x**4/(x**5 + 1)"
      ]
     },
     "execution_count": 102,
     "metadata": {},
     "output_type": "execute_result"
    }
   ],
   "source": [
    "#Oppgave 22.1f)\n",
    "x = sp.Symbol('x')\n",
    "sp.diff(sp.log(x**5+1))"
   ]
  },
  {
   "cell_type": "code",
   "execution_count": 103,
   "id": "fcfdf935-2ee6-4774-a786-2cde24c2f145",
   "metadata": {},
   "outputs": [
    {
     "data": {
      "text/latex": [
       "$\\displaystyle 2.71828182845905^{- 4 x^{2} - 8 x} 2.71828182845905^{4 x^{2} + 8 x} \\left(8.0 x + 8.0\\right)$"
      ],
      "text/plain": [
       "2.71828182845905**(-4*x**2 - 8*x)*2.71828182845905**(4*x**2 + 8*x)*(8.0*x + 8.0)"
      ]
     },
     "execution_count": 103,
     "metadata": {},
     "output_type": "execute_result"
    }
   ],
   "source": [
    "#Oppgave 22.1g)\n",
    "x = sp.Symbol('x')\n",
    "sp.diff(sp.log(math.e**(4*x**2+8*x)))"
   ]
  },
  {
   "cell_type": "code",
   "execution_count": 105,
   "id": "8e89c84d-5a62-4444-a30a-4c1adbe5ea3f",
   "metadata": {},
   "outputs": [
    {
     "data": {
      "text/latex": [
       "$\\displaystyle - \\frac{1}{x}$"
      ],
      "text/plain": [
       "-1/x"
      ]
     },
     "execution_count": 105,
     "metadata": {},
     "output_type": "execute_result"
    }
   ],
   "source": [
    "#Oppgave 22.1h)\n",
    "x = sp.Symbol('x')\n",
    "sp.diff(sp.log(1/x))"
   ]
  },
  {
   "cell_type": "code",
   "execution_count": 106,
   "id": "48979bb6-03ea-47d2-8fe1-ac76fa285a64",
   "metadata": {},
   "outputs": [
    {
     "data": {
      "text/latex": [
       "$\\displaystyle 163.794450099433 + \\frac{6}{x}$"
      ],
      "text/plain": [
       "163.794450099433 + 6/x"
      ]
     },
     "execution_count": 106,
     "metadata": {},
     "output_type": "execute_result"
    }
   ],
   "source": [
    "#Oppgave 22.1i)\n",
    "x = sp.Symbol('x')\n",
    "sp.diff(6*sp.log(x)+3*math.e**4*x)"
   ]
  },
  {
   "cell_type": "code",
   "execution_count": 107,
   "id": "f9e0a659-16cb-42c5-8309-b14d308cf93e",
   "metadata": {},
   "outputs": [
    {
     "data": {
      "text/latex": [
       "$\\displaystyle - 1.0 \\cdot 2.71828182845905^{- x} x + 2.71828182845905^{- x}$"
      ],
      "text/plain": [
       "-1.0*x/2.71828182845905**x + 2.71828182845905**(-x)"
      ]
     },
     "execution_count": 107,
     "metadata": {},
     "output_type": "execute_result"
    }
   ],
   "source": [
    "#Oppgave 22.1j)\n",
    "x = sp.Symbol('x')\n",
    "sp.diff(x*math.e**-x)"
   ]
  },
  {
   "cell_type": "code",
   "execution_count": 108,
   "id": "5e576f99-cc27-4b39-bd08-7cf452d53d8c",
   "metadata": {},
   "outputs": [
    {
     "data": {
      "text/latex": [
       "$\\displaystyle \\frac{2 x^{3}}{x^{2} + 2} + 2 x \\log{\\left(x^{2} + 2 \\right)}$"
      ],
      "text/plain": [
       "2*x**3/(x**2 + 2) + 2*x*log(x**2 + 2)"
      ]
     },
     "execution_count": 108,
     "metadata": {},
     "output_type": "execute_result"
    }
   ],
   "source": [
    "\n",
    "#Oppgave 22.1k)\n",
    "x = sp.Symbol('x')\n",
    "sp.diff(x**2*sp.log(x**2+2))"
   ]
  },
  {
   "cell_type": "code",
   "execution_count": 109,
   "id": "1da08f9b-525a-418a-aa34-f52d58b232d1",
   "metadata": {},
   "outputs": [
    {
     "data": {
      "text/latex": [
       "$\\displaystyle 3 x^{2} + 7.38905609893065$"
      ],
      "text/plain": [
       "3*x**2 + 7.38905609893065"
      ]
     },
     "execution_count": 109,
     "metadata": {},
     "output_type": "execute_result"
    }
   ],
   "source": [
    "#Oppgave 22.2a)\n",
    "x = sp.Symbol('x')\n",
    "sp.diff(x**3+math.e**2*x)"
   ]
  },
  {
   "cell_type": "code",
   "execution_count": 110,
   "id": "61023326-a3ca-41c6-aff2-cfbeb35e90df",
   "metadata": {},
   "outputs": [
    {
     "data": {
      "text/latex": [
       "$\\displaystyle \\frac{\\left(x^{2} + 1\\right) \\left(- \\frac{2 x \\left(x^{2} - 1\\right)}{\\left(x^{2} + 1\\right)^{2}} + \\frac{2 x}{x^{2} + 1}\\right)}{x^{2} - 1}$"
      ],
      "text/plain": [
       "(x**2 + 1)*(-2*x*(x**2 - 1)/(x**2 + 1)**2 + 2*x/(x**2 + 1))/(x**2 - 1)"
      ]
     },
     "execution_count": 110,
     "metadata": {},
     "output_type": "execute_result"
    }
   ],
   "source": [
    "#Oppgave 22.2b)\n",
    "x = sp.Symbol('x')\n",
    "sp.diff(sp.log((x**2-1)/(x**2+1)))\n"
   ]
  },
  {
   "cell_type": "code",
   "execution_count": 111,
   "id": "626cc10d-5d1a-4f30-895c-ac8f2ef08d7f",
   "metadata": {},
   "outputs": [
    {
     "data": {
      "text/latex": [
       "$\\displaystyle 2 x + \\frac{2 x}{x^{2} + 2}$"
      ],
      "text/plain": [
       "2*x + 2*x/(x**2 + 2)"
      ]
     },
     "execution_count": 111,
     "metadata": {},
     "output_type": "execute_result"
    }
   ],
   "source": [
    "#Oppgave 22.2c)\n",
    "x = sp.Symbol('x')\n",
    "sp.diff(x**2+sp.log(x**2+2))"
   ]
  },
  {
   "cell_type": "code",
   "execution_count": 112,
   "id": "c0ac881a-2329-4b73-a36f-1a29ca35d63d",
   "metadata": {},
   "outputs": [
    {
     "data": {
      "text/latex": [
       "$\\displaystyle - \\frac{2 \\cdot 2.71828182845905^{- x} x}{\\left(x^{2} + 1\\right)^{2}} - \\frac{1.0 \\cdot 2.71828182845905^{- x}}{x^{2} + 1}$"
      ],
      "text/plain": [
       "-2*x/(2.71828182845905**x*(x**2 + 1)**2) - 1.0/(2.71828182845905**x*(x**2 + 1))"
      ]
     },
     "execution_count": 112,
     "metadata": {},
     "output_type": "execute_result"
    }
   ],
   "source": [
    "#Oppgave 22.2d)\n",
    "x = sp.Symbol('x')\n",
    "sp.diff((math.e**-x)/(x**2+1))"
   ]
  }
 ],
 "metadata": {
  "kernelspec": {
   "display_name": "Python 3 (ipykernel)",
   "language": "python",
   "name": "python3"
  },
  "language_info": {
   "codemirror_mode": {
    "name": "ipython",
    "version": 3
   },
   "file_extension": ".py",
   "mimetype": "text/x-python",
   "name": "python",
   "nbconvert_exporter": "python",
   "pygments_lexer": "ipython3",
   "version": "3.9.13"
  }
 },
 "nbformat": 4,
 "nbformat_minor": 5
}
